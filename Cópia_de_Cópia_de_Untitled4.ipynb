{
  "nbformat": 4,
  "nbformat_minor": 0,
  "metadata": {
    "colab": {
      "provenance": [],
      "authorship_tag": "ABX9TyMBI6TbejkkruBmcJK6j3tc",
      "include_colab_link": true
    },
    "kernelspec": {
      "name": "python3",
      "display_name": "Python 3"
    },
    "language_info": {
      "name": "python"
    }
  },
  "cells": [
    {
      "cell_type": "markdown",
      "metadata": {
        "id": "view-in-github",
        "colab_type": "text"
      },
      "source": [
        "<a href=\"https://colab.research.google.com/github/Talita32/assistente-de-estudo-/blob/main/C%C3%B3pia_de_C%C3%B3pia_de_Untitled4.ipynb\" target=\"_parent\"><img src=\"https://colab.research.google.com/assets/colab-badge.svg\" alt=\"Open In Colab\"/></a>"
      ]
    },
    {
      "cell_type": "code",
      "execution_count": null,
      "metadata": {
        "id": "HauhStfiNujF"
      },
      "outputs": [],
      "source": [
        "%pip -q install google-genai"
      ]
    },
    {
      "cell_type": "code",
      "source": [
        "# Configura a API Key do Google Gemini\n",
        "\n",
        "import os\n",
        "from google.colab import userdata\n",
        "\n",
        "os.environ[\"GOOGLE_API_KEY\"] = userdata.get('GOOGLE_API_KEY')"
      ],
      "metadata": {
        "id": "ZjteCburOVHl"
      },
      "execution_count": 2,
      "outputs": []
    },
    {
      "cell_type": "code",
      "source": [
        "# Configura o cliente da SDK do Gemini\n",
        "\n",
        "from google import genai\n",
        "\n",
        "client = genai.Client()\n",
        "\n",
        "MODEL_ID = \"gemini-2.0-flash\""
      ],
      "metadata": {
        "id": "v4ganYZ6Oeav"
      },
      "execution_count": null,
      "outputs": []
    },
    {
      "cell_type": "code",
      "source": [
        "def saudar_pipoca():\n",
        "  \"\"\"Imprime a saudação inicial do assistente Golden Retriever Pipoca.\"\"\"\n",
        "  print(\"Woof woof! Olá! Sou o Pipoca, seu assistente Golden Retriever pronto para ajudar!\")\n",
        "\n",
        "saudar_pipoca()"
      ],
      "metadata": {
        "colab": {
          "base_uri": "https://localhost:8080/"
        },
        "id": "aJwp7NZtZcGn",
        "outputId": "c000c6d0-8b27-40b7-e03d-a945f28e14b2"
      },
      "execution_count": null,
      "outputs": [
        {
          "output_type": "stream",
          "name": "stdout",
          "text": [
            "Woof woof! Olá! Sou o Pipoca, seu assistente Golden Retriever pronto para ajudar!\n"
          ]
        }
      ]
    },
    {
      "cell_type": "code",
      "source": [
        "import random\n",
        "\n",
        "def apresentar_letra():\n",
        "  \"\"\"Apresenta uma letra aleatória com entusiasmo.\"\"\"\n",
        "  alfabeto = \"ABCDEFGHIJKLMNOPQRSTUVWXYZ\"\n",
        "  letra_aleatoria = random.choice(alfabeto)\n",
        "  print(f\"Au au! Olha que letra legal, amiguinho! É a letra: {letra_aleatoria}!\")\n",
        "  return letra_aleatoria\n",
        "\n",
        "def perguntar_nome_letra(letra):\n",
        "  \"\"\"Pergunta o nome da letra.\"\"\"\n",
        "  resposta = input(f\"Qual o nome dessa letra? Vamos lá, tente dizer! \")\n",
        "  return resposta.strip().upper()\n",
        "\n",
        "def verificar_resposta_letra(resposta_usuario, letra_correta):\n",
        "  \"\"\"Verifica se a resposta da criança está correta e dá feedback.\"\"\"\n",
        "  if resposta_usuario == letra_correta:\n",
        "    elogios = [\"Woof woof! Isso mesmo! Você é demais!\", \"Que orelhas espertas você tem!\", \"Acertou em cheio! Parabéns!\", \"Você está aprendendo super rápido!\"]\n",
        "    print(f\"{random.choice(elogios)} 🎉\")\n",
        "    return True\n",
        "  else:\n",
        "    mensagens_erro = [\"Hmm, quase lá! Não desanime!\", f\"A letra certa era {letra_correta}. Vamos tentar outra?\", \"Que tal olharmos juntos?\", \"Não tem problema errar, o importante é aprender!\"]\n",
        "    print(f\"{random.choice(mensagens_erro)} 😊\")\n",
        "    return False\n",
        "\n",
        "def modulo_aprendendo_letras():\n",
        "  \"\"\"Módulo inicial para aprender as letras do alfabeto.\"\"\"\n",
        "  print(\"\\nOlá, explorador de letras! Prepare-se para uma aventura super divertida!\")\n",
        "  num_tentativas = 3\n",
        "  for _ in range(num_tentativas):\n",
        "    letra_para_aprender = apresentar_letra()\n",
        "    resposta_crianca = perguntar_nome_letra(letra_para_aprender)\n",
        "    if verificar_resposta_letra(resposta_crianca, letra_para_aprender):\n",
        "      break # Se acertar, pode passar para a próxima letra (ou finalizar o módulo)\n",
        "    if _ < num_tentativas - 1:\n",
        "      print(\"Vamos tentar mais uma vez!\")\n",
        "  print(\"\\nAu au! Você aprendeu muito hoje! Continue explorando as letras!\")\n",
        "\n",
        "# Para iniciar o módulo:\n",
        "modulo_aprendendo_letras()"
      ],
      "metadata": {
        "colab": {
          "base_uri": "https://localhost:8080/"
        },
        "id": "UMv8IEp9biGA",
        "outputId": "7bfb8c2f-ff64-40d8-a6b9-3098d4f51e79"
      },
      "execution_count": null,
      "outputs": [
        {
          "output_type": "stream",
          "name": "stdout",
          "text": [
            "\n",
            "Olá, explorador de letras! Prepare-se para uma aventura super divertida!\n",
            "Au au! Olha que letra legal, amiguinho! É a letra: F!\n",
            "Qual o nome dessa letra? Vamos lá, tente dizer! f\n",
            "Woof woof! Isso mesmo! Você é demais! 🎉\n",
            "\n",
            "Au au! Você aprendeu muito hoje! Continue explorando as letras!\n"
          ]
        }
      ]
    },
    {
      "cell_type": "code",
      "source": [
        "import random\n",
        "\n",
        "def fazer_pergunta_adicao(num1, num2):\n",
        "  \"\"\"Faz uma pergunta simples de adição.\"\"\"\n",
        "  resposta_correta = num1 + num2\n",
        "  pergunta = f\"Quanto é {num1} + {num2}?\"\n",
        "  incentivos = [\"Pode contar nos dedos!\", \"Pense com carinho!\", \"Você consegue!\", \"Qual será o resultado?\"]\n",
        "  resposta_usuario = input(f\"{pergunta} {random.choice(incentivos)} \").strip() # .strip() remove espaços extras\n",
        "\n",
        "  try:\n",
        "    resposta_usuario = int(resposta_usuario)\n",
        "    if resposta_usuario == resposta_correta:\n",
        "      elogios = [\"Isso! Que demais!\", \"Você acertou de primeira!\", \"Incrível!\", \"Você é um craque na adição!\"]\n",
        "      print(f\"{random.choice(elogios)} 🎉\")\n",
        "      return True\n",
        "    else:\n",
        "      mensagens_erro = [\"Não foi dessa vez, mas não desanime!\", f\"A resposta certa era {resposta_correta}.\", \"Vamos tentar a próxima!\", \"Quase lá!\"]\n",
        "      print(f\"{random.choice(mensagens_erro)} 😊\")\n",
        "      return False\n",
        "  except ValueError:\n",
        "    print(\"Por favor, digite apenas o número da resposta.\")\n",
        "    return False\n",
        "\n",
        "def modulo_adicao_basica():\n",
        "  \"\"\"Módulo com perguntas básicas de adição.\"\"\"\n",
        "  print(\"\\nOlá, amiguinho! Vamos aprender a somar!\")\n",
        "  pontuacao = 0\n",
        "  num_perguntas = 3\n",
        "  for _ in range(num_perguntas):\n",
        "    num1 = random.randint(1, 10)\n",
        "    num2 = random.randint(1, 10)\n",
        "    if fazer_pergunta_adicao(num1, num2):\n",
        "      pontuacao += 1\n",
        "      recompensas = [\"Você ganhou um sorriso!\", \"Mais um acerto para você!\", \"Continue assim!\", \"Você está indo muito bem!\"]\n",
        "      print(f\"{random.choice(recompensas)} 😄\")\n",
        "    else:\n",
        "      mensagens_apoio = [\"Não se preocupe!\", \"Aprender leva tempo.\", \"Estamos juntos!\", \"Na próxima você acerta!\"]\n",
        "      print(random.choice(mensagens_apoio))\n",
        "\n",
        "  print(f\"\\nFim da lição de adição! Você acertou {pontuacao} de {num_perguntas} perguntas. Parabéns!\")\n",
        "\n",
        "# Iniciar o módulo de adição\n",
        "modulo_adicao_basica()"
      ],
      "metadata": {
        "colab": {
          "base_uri": "https://localhost:8080/",
          "height": 373
        },
        "id": "Ex6WcIAHdWQp",
        "outputId": "22f49d82-c27d-4c91-d356-98fb1be57ab1"
      },
      "execution_count": null,
      "outputs": [
        {
          "output_type": "stream",
          "name": "stdout",
          "text": [
            "\n",
            "Olá, amiguinho! Vamos aprender a somar!\n"
          ]
        },
        {
          "output_type": "error",
          "ename": "KeyboardInterrupt",
          "evalue": "Interrupted by user",
          "traceback": [
            "\u001b[0;31m---------------------------------------------------------------------------\u001b[0m",
            "\u001b[0;31mKeyboardInterrupt\u001b[0m                         Traceback (most recent call last)",
            "\u001b[0;32m<ipython-input-19-1e1e959fde92>\u001b[0m in \u001b[0;36m<cell line: 0>\u001b[0;34m()\u001b[0m\n\u001b[1;32m     41\u001b[0m \u001b[0;34m\u001b[0m\u001b[0m\n\u001b[1;32m     42\u001b[0m \u001b[0;31m# Iniciar o módulo de adição\u001b[0m\u001b[0;34m\u001b[0m\u001b[0;34m\u001b[0m\u001b[0m\n\u001b[0;32m---> 43\u001b[0;31m \u001b[0mmodulo_adicao_basica\u001b[0m\u001b[0;34m(\u001b[0m\u001b[0;34m)\u001b[0m\u001b[0;34m\u001b[0m\u001b[0;34m\u001b[0m\u001b[0m\n\u001b[0m",
            "\u001b[0;32m<ipython-input-19-1e1e959fde92>\u001b[0m in \u001b[0;36mmodulo_adicao_basica\u001b[0;34m()\u001b[0m\n\u001b[1;32m     30\u001b[0m     \u001b[0mnum1\u001b[0m \u001b[0;34m=\u001b[0m \u001b[0mrandom\u001b[0m\u001b[0;34m.\u001b[0m\u001b[0mrandint\u001b[0m\u001b[0;34m(\u001b[0m\u001b[0;36m1\u001b[0m\u001b[0;34m,\u001b[0m \u001b[0;36m10\u001b[0m\u001b[0;34m)\u001b[0m\u001b[0;34m\u001b[0m\u001b[0;34m\u001b[0m\u001b[0m\n\u001b[1;32m     31\u001b[0m     \u001b[0mnum2\u001b[0m \u001b[0;34m=\u001b[0m \u001b[0mrandom\u001b[0m\u001b[0;34m.\u001b[0m\u001b[0mrandint\u001b[0m\u001b[0;34m(\u001b[0m\u001b[0;36m1\u001b[0m\u001b[0;34m,\u001b[0m \u001b[0;36m10\u001b[0m\u001b[0;34m)\u001b[0m\u001b[0;34m\u001b[0m\u001b[0;34m\u001b[0m\u001b[0m\n\u001b[0;32m---> 32\u001b[0;31m     \u001b[0;32mif\u001b[0m \u001b[0mfazer_pergunta_adicao\u001b[0m\u001b[0;34m(\u001b[0m\u001b[0mnum1\u001b[0m\u001b[0;34m,\u001b[0m \u001b[0mnum2\u001b[0m\u001b[0;34m)\u001b[0m\u001b[0;34m:\u001b[0m\u001b[0;34m\u001b[0m\u001b[0;34m\u001b[0m\u001b[0m\n\u001b[0m\u001b[1;32m     33\u001b[0m       \u001b[0mpontuacao\u001b[0m \u001b[0;34m+=\u001b[0m \u001b[0;36m1\u001b[0m\u001b[0;34m\u001b[0m\u001b[0;34m\u001b[0m\u001b[0m\n\u001b[1;32m     34\u001b[0m       \u001b[0mrecompensas\u001b[0m \u001b[0;34m=\u001b[0m \u001b[0;34m[\u001b[0m\u001b[0;34m\"Você ganhou um sorriso!\"\u001b[0m\u001b[0;34m,\u001b[0m \u001b[0;34m\"Mais um acerto para você!\"\u001b[0m\u001b[0;34m,\u001b[0m \u001b[0;34m\"Continue assim!\"\u001b[0m\u001b[0;34m,\u001b[0m \u001b[0;34m\"Você está indo muito bem!\"\u001b[0m\u001b[0;34m]\u001b[0m\u001b[0;34m\u001b[0m\u001b[0;34m\u001b[0m\u001b[0m\n",
            "\u001b[0;32m<ipython-input-19-1e1e959fde92>\u001b[0m in \u001b[0;36mfazer_pergunta_adicao\u001b[0;34m(num1, num2)\u001b[0m\n\u001b[1;32m      6\u001b[0m   \u001b[0mpergunta\u001b[0m \u001b[0;34m=\u001b[0m \u001b[0;34mf\"Quanto é {num1} + {num2}?\"\u001b[0m\u001b[0;34m\u001b[0m\u001b[0;34m\u001b[0m\u001b[0m\n\u001b[1;32m      7\u001b[0m   \u001b[0mincentivos\u001b[0m \u001b[0;34m=\u001b[0m \u001b[0;34m[\u001b[0m\u001b[0;34m\"Pode contar nos dedos!\"\u001b[0m\u001b[0;34m,\u001b[0m \u001b[0;34m\"Pense com carinho!\"\u001b[0m\u001b[0;34m,\u001b[0m \u001b[0;34m\"Você consegue!\"\u001b[0m\u001b[0;34m,\u001b[0m \u001b[0;34m\"Qual será o resultado?\"\u001b[0m\u001b[0;34m]\u001b[0m\u001b[0;34m\u001b[0m\u001b[0;34m\u001b[0m\u001b[0m\n\u001b[0;32m----> 8\u001b[0;31m   \u001b[0mresposta_usuario\u001b[0m \u001b[0;34m=\u001b[0m \u001b[0minput\u001b[0m\u001b[0;34m(\u001b[0m\u001b[0;34mf\"{pergunta} {random.choice(incentivos)} \"\u001b[0m\u001b[0;34m)\u001b[0m\u001b[0;34m.\u001b[0m\u001b[0mstrip\u001b[0m\u001b[0;34m(\u001b[0m\u001b[0;34m)\u001b[0m \u001b[0;31m# .strip() remove espaços extras\u001b[0m\u001b[0;34m\u001b[0m\u001b[0;34m\u001b[0m\u001b[0m\n\u001b[0m\u001b[1;32m      9\u001b[0m \u001b[0;34m\u001b[0m\u001b[0m\n\u001b[1;32m     10\u001b[0m   \u001b[0;32mtry\u001b[0m\u001b[0;34m:\u001b[0m\u001b[0;34m\u001b[0m\u001b[0;34m\u001b[0m\u001b[0m\n",
            "\u001b[0;32m/usr/local/lib/python3.11/dist-packages/ipykernel/kernelbase.py\u001b[0m in \u001b[0;36mraw_input\u001b[0;34m(self, prompt)\u001b[0m\n\u001b[1;32m   1175\u001b[0m                 \u001b[0;34m\"raw_input was called, but this frontend does not support input requests.\"\u001b[0m\u001b[0;34m\u001b[0m\u001b[0;34m\u001b[0m\u001b[0m\n\u001b[1;32m   1176\u001b[0m             )\n\u001b[0;32m-> 1177\u001b[0;31m         return self._input_request(\n\u001b[0m\u001b[1;32m   1178\u001b[0m             \u001b[0mstr\u001b[0m\u001b[0;34m(\u001b[0m\u001b[0mprompt\u001b[0m\u001b[0;34m)\u001b[0m\u001b[0;34m,\u001b[0m\u001b[0;34m\u001b[0m\u001b[0;34m\u001b[0m\u001b[0m\n\u001b[1;32m   1179\u001b[0m             \u001b[0mself\u001b[0m\u001b[0;34m.\u001b[0m\u001b[0m_parent_ident\u001b[0m\u001b[0;34m[\u001b[0m\u001b[0;34m\"shell\"\u001b[0m\u001b[0;34m]\u001b[0m\u001b[0;34m,\u001b[0m\u001b[0;34m\u001b[0m\u001b[0;34m\u001b[0m\u001b[0m\n",
            "\u001b[0;32m/usr/local/lib/python3.11/dist-packages/ipykernel/kernelbase.py\u001b[0m in \u001b[0;36m_input_request\u001b[0;34m(self, prompt, ident, parent, password)\u001b[0m\n\u001b[1;32m   1217\u001b[0m             \u001b[0;32mexcept\u001b[0m \u001b[0mKeyboardInterrupt\u001b[0m\u001b[0;34m:\u001b[0m\u001b[0;34m\u001b[0m\u001b[0;34m\u001b[0m\u001b[0m\n\u001b[1;32m   1218\u001b[0m                 \u001b[0;31m# re-raise KeyboardInterrupt, to truncate traceback\u001b[0m\u001b[0;34m\u001b[0m\u001b[0;34m\u001b[0m\u001b[0m\n\u001b[0;32m-> 1219\u001b[0;31m                 \u001b[0;32mraise\u001b[0m \u001b[0mKeyboardInterrupt\u001b[0m\u001b[0;34m(\u001b[0m\u001b[0;34m\"Interrupted by user\"\u001b[0m\u001b[0;34m)\u001b[0m \u001b[0;32mfrom\u001b[0m \u001b[0;32mNone\u001b[0m\u001b[0;34m\u001b[0m\u001b[0;34m\u001b[0m\u001b[0m\n\u001b[0m\u001b[1;32m   1220\u001b[0m             \u001b[0;32mexcept\u001b[0m \u001b[0mException\u001b[0m\u001b[0;34m:\u001b[0m\u001b[0;34m\u001b[0m\u001b[0;34m\u001b[0m\u001b[0m\n\u001b[1;32m   1221\u001b[0m                 \u001b[0mself\u001b[0m\u001b[0;34m.\u001b[0m\u001b[0mlog\u001b[0m\u001b[0;34m.\u001b[0m\u001b[0mwarning\u001b[0m\u001b[0;34m(\u001b[0m\u001b[0;34m\"Invalid Message:\"\u001b[0m\u001b[0;34m,\u001b[0m \u001b[0mexc_info\u001b[0m\u001b[0;34m=\u001b[0m\u001b[0;32mTrue\u001b[0m\u001b[0;34m)\u001b[0m\u001b[0;34m\u001b[0m\u001b[0;34m\u001b[0m\u001b[0m\n",
            "\u001b[0;31mKeyboardInterrupt\u001b[0m: Interrupted by user"
          ]
        }
      ]
    }
  ]
}