{
 "cells": [
  {
   "cell_type": "code",
   "execution_count": 1,
   "id": "7e21bbc9",
   "metadata": {},
   "outputs": [
    {
     "name": "stdout",
     "output_type": "stream",
     "text": [
      "Note: you may need to restart the kernel to use updated packages.\n"
     ]
    }
   ],
   "source": [
    "%pip -q install google-genai\n"
   ]
  },
  {
   "cell_type": "code",
   "execution_count": 2,
   "id": "9476acaa",
   "metadata": {},
   "outputs": [
    {
     "ename": "ModuleNotFoundError",
     "evalue": "No module named 'google.colab'",
     "output_type": "error",
     "traceback": [
      "\u001b[31m---------------------------------------------------------------------------\u001b[39m",
      "\u001b[31mModuleNotFoundError\u001b[39m                       Traceback (most recent call last)",
      "\u001b[36mCell\u001b[39m\u001b[36m \u001b[39m\u001b[32mIn[2]\u001b[39m\u001b[32m, line 4\u001b[39m\n\u001b[32m      1\u001b[39m \u001b[38;5;66;03m# Configura a API Key do Google Gemini\u001b[39;00m\n\u001b[32m      3\u001b[39m \u001b[38;5;28;01mimport\u001b[39;00m\u001b[38;5;250m \u001b[39m\u001b[34;01mos\u001b[39;00m\n\u001b[32m----> \u001b[39m\u001b[32m4\u001b[39m \u001b[38;5;28;01mfrom\u001b[39;00m\u001b[38;5;250m \u001b[39m\u001b[34;01mgoogle\u001b[39;00m\u001b[34;01m.\u001b[39;00m\u001b[34;01mcolab\u001b[39;00m\u001b[38;5;250m \u001b[39m\u001b[38;5;28;01mimport\u001b[39;00m userdata\n\u001b[32m      6\u001b[39m os.environ[\u001b[33m\"\u001b[39m\u001b[33mGOOGLE_API_KEY\u001b[39m\u001b[33m\"\u001b[39m] = userdata.get(\u001b[33m'\u001b[39m\u001b[33mGOOGLE_API_KEY\u001b[39m\u001b[33m'\u001b[39m)\n",
      "\u001b[31mModuleNotFoundError\u001b[39m: No module named 'google.colab'"
     ]
    }
   ],
   "source": [
    "# Configura a API Key do Google Gemini\n",
    "\n",
    "import os\n",
    "from google.colab import userdata\n",
    "\n",
    "os.environ[\"GOOGLE_API_KEY\"] = userdata.get('GOOGLE_API_KEY')"
   ]
  },
  {
   "cell_type": "code",
   "execution_count": null,
   "id": "c1532081",
   "metadata": {},
   "outputs": [],
   "source": [
    "# Configura o cliente da SDK do Gemini\n",
    "\n",
    "from google import genai\n",
    "\n",
    "client = genai.Client()\n",
    "\n",
    "MODEL_ID = \"gemini-2.0-flash\""
   ]
  },
  {
   "cell_type": "code",
   "execution_count": null,
   "id": "6ccca740",
   "metadata": {},
   "outputs": [],
   "source": [
    "# Configura o cliente da SDK do Gemini\n",
    "\n",
    "from google import genai\n",
    "\n",
    "client = genai.Client()\n",
    "\n",
    "MODEL_ID = \"gemini-2.0-flash\""
   ]
  },
  {
   "cell_type": "code",
   "execution_count": null,
   "id": "0f1a404d",
   "metadata": {},
   "outputs": [],
   "source": [
    "import random\n",
    "\n",
    "def apresentar_letra():\n",
    "  \"\"\"Apresenta uma letra aleatória com entusiasmo.\"\"\"\n",
    "  alfabeto = \"ABCDEFGHIJKLMNOPQRSTUVWXYZ\"\n",
    "  letra_aleatoria = random.choice(alfabeto)\n",
    "  print(f\"Au au! Olha que letra legal, amiguinho! É a letra: {letra_aleatoria}!\")\n",
    "  return letra_aleatoria\n",
    "\n",
    "def perguntar_nome_letra(letra):\n",
    "  \"\"\"Pergunta o nome da letra.\"\"\"\n",
    "  resposta = input(f\"Qual o nome dessa letra? Vamos lá, tente dizer! \")\n",
    "  return resposta.strip().upper()\n",
    "\n",
    "def verificar_resposta_letra(resposta_usuario, letra_correta):\n",
    "  \"\"\"Verifica se a resposta da criança está correta e dá feedback.\"\"\"\n",
    "  if resposta_usuario == letra_correta:\n",
    "    elogios = [\"Woof woof! Isso mesmo! Você é demais!\", \"Que orelhas espertas você tem!\", \"Acertou em cheio! Parabéns!\", \"Você está aprendendo super rápido!\"]\n",
    "    print(f\"{random.choice(elogios)} 🎉\")\n",
    "    return True\n",
    "  else:\n",
    "    mensagens_erro = [\"Hmm, quase lá! Não desanime!\", f\"A letra certa era {letra_correta}. Vamos tentar outra?\", \"Que tal olharmos juntos?\", \"Não tem problema errar, o importante é aprender!\"]\n",
    "    print(f\"{random.choice(mensagens_erro)} 😊\")\n",
    "    return False\n",
    "\n",
    "def modulo_aprendendo_letras():\n",
    "  \"\"\"Módulo inicial para aprender as letras do alfabeto.\"\"\"\n",
    "  print(\"\\nOlá, explorador de letras! Prepare-se para uma aventura super divertida!\")\n",
    "  num_tentativas = 3\n",
    "  for _ in range(num_tentativas):\n",
    "    letra_para_aprender = apresentar_letra()\n",
    "    resposta_crianca = perguntar_nome_letra(letra_para_aprender)\n",
    "    if verificar_resposta_letra(resposta_crianca, letra_para_aprender):\n",
    "      break # Se acertar, pode passar para a próxima letra (ou finalizar o módulo)\n",
    "    if _ < num_tentativas - 1:\n",
    "      print(\"Vamos tentar mais uma vez!\")\n",
    "  print(\"\\nAu au! Você aprendeu muito hoje! Continue explorando as letras!\")\n",
    "\n",
    "# Para iniciar o módulo:\n",
    "modulo_aprendendo_letras()"
   ]
  },
  {
   "cell_type": "code",
   "execution_count": null,
   "id": "fefe5db8",
   "metadata": {},
   "outputs": [],
   "source": [
    "import random\n",
    "\n",
    "def fazer_pergunta_adicao(num1, num2):\n",
    "  \"\"\"Faz uma pergunta simples de adição.\"\"\"\n",
    "  resposta_correta = num1 + num2\n",
    "  pergunta = f\"Quanto é {num1} + {num2}?\"\n",
    "  incentivos = [\"Pode contar nos dedos!\", \"Pense com carinho!\", \"Você consegue!\", \"Qual será o resultado?\"]\n",
    "  resposta_usuario = input(f\"{pergunta} {random.choice(incentivos)} \").strip() # .strip() remove espaços extras\n",
    "\n",
    "  try:\n",
    "    resposta_usuario = int(resposta_usuario)\n",
    "    if resposta_usuario == resposta_correta:\n",
    "      elogios = [\"Isso! Que demais!\", \"Você acertou de primeira!\", \"Incrível!\", \"Você é um craque na adição!\"]\n",
    "      print(f\"{random.choice(elogios)} 🎉\")\n",
    "      return True\n",
    "    else:\n",
    "      mensagens_erro = [\"Não foi dessa vez, mas não desanime!\", f\"A resposta certa era {resposta_correta}.\", \"Vamos tentar a próxima!\", \"Quase lá!\"]\n",
    "      print(f\"{random.choice(mensagens_erro)} 😊\")\n",
    "      return False\n",
    "  except ValueError:\n",
    "    print(\"Por favor, digite apenas o número da resposta.\")\n",
    "    return False\n",
    "\n",
    "def modulo_adicao_basica():\n",
    "  \"\"\"Módulo com perguntas básicas de adição.\"\"\"\n",
    "  print(\"\\nOlá, amiguinho! Vamos aprender a somar!\")\n",
    "  pontuacao = 0\n",
    "  num_perguntas = 3\n",
    "  for _ in range(num_perguntas):\n",
    "    num1 = random.randint(1, 10)\n",
    "    num2 = random.randint(1, 10)\n",
    "    if fazer_pergunta_adicao(num1, num2):\n",
    "      pontuacao += 1\n",
    "      recompensas = [\"Você ganhou um sorriso!\", \"Mais um acerto para você!\", \"Continue assim!\", \"Você está indo muito bem!\"]\n",
    "      print(f\"{random.choice(recompensas)} 😄\")\n",
    "    else:\n",
    "      mensagens_apoio = [\"Não se preocupe!\", \"Aprender leva tempo.\", \"Estamos juntos!\", \"Na próxima você acerta!\"]\n",
    "      print(random.choice(mensagens_apoio))\n",
    "\n",
    "  print(f\"\\nFim da lição de adição! Você acertou {pontuacao} de {num_perguntas} perguntas. Parabéns!\")\n",
    "\n",
    "# Iniciar o módulo de adição\n",
    "modulo_adicao_basica()"
   ]
  }
 ],
 "metadata": {
  "kernelspec": {
   "display_name": ".venv",
   "language": "python",
   "name": "python3"
  },
  "language_info": {
   "codemirror_mode": {
    "name": "ipython",
    "version": 3
   },
   "file_extension": ".py",
   "mimetype": "text/x-python",
   "name": "python",
   "nbconvert_exporter": "python",
   "pygments_lexer": "ipython3",
   "version": "3.13.3"
  }
 },
 "nbformat": 4,
 "nbformat_minor": 5
}
